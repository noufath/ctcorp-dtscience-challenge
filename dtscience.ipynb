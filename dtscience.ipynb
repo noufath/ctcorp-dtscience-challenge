{
    "cells": [
        {
            "cell_type": "markdown",
            "source": [
                "# Data Science Challenge with Python\n",
                "\n",
                "Project ini merupakan kerjasama DQLab dengan CTCorp. Didalam project ini bertujuan untuk menguji kemampuan data science yang terdiri dari :  \n",
                "1. **Test Probabilitas**, dirancang untuk memperlihatkan kemampuan dalam mengkonseptualisasikan pengetahuan dalam bidang probabilitas.  \n",
                "2. **Test Statistik**, dirancang untuk memperlihatkan pengetahuan member terkait dasar-dasar ilmu statistik  \n",
                "3. **Test Interpretasi Model**, dirancang untuk memperlihatkan kemampuan member dalam memberikan insight/kesimpulan dan pengambilan keputusan terkait dengan model yang dibangun melalui penerapan data science.  \n",
                "4. **Test Pemrograman**, yang dirancang untuk memperlihatkan kemampuan member dalam menerapkan logical thinking (berfikir logis) melalui kode-kode program yang ditanyakan.  \n",
                "\n",
                "## I. Probabilitas\n",
                "### 1. Terdapat 23 tim rugby yang bermain dalam sebuah turnamen. Berapakah banyaknya pertandingan yang harus dimainkan agar diketahui siapa pemenangnya ?\n",
                "\n",
                "Penyelesaian :  \n",
                "\n",
                "Pertandingan turnamen dengan sistem gugur maka jumlah pertandigan yang harus dimainkan adalah n - 1.  \n",
                "Jadi banyaknya pertandingan yang harus dimainkan adalah : 23 - 1 = **22**\n",
                "\n",
                "### 2. Setiap interval 15 menit, terdapat 20% probabilitas bahwa Anda dapat melihat satu bintang berekor. Berapakah probabilitasnya Anda dapat melihat setidaknya satu bintang berekor tiap satu jam ?  \n",
                "\n",
                "Penyelesaian :  \n",
                "\n",
                "n (number of trials) = 60 menit / 15 menit = 4 ;  \n",
                "P (probability of success) = 20% = 0.2  \n",
                "x >= 1 (1,2,3,4)  \n",
                "\n",
                "Binomial formula : P(X=x) = n! / x!(n - x)! * P<sup>x</sup> * (1 - P)<sup>n-x</sup> \n",
                "\n",
                "Comulative Probability : P(X >= 1) = P(X=1) + P(X=2) + P(X=3) + P(X=4) \n",
                "                                   = 0.4096 + 0.1536 + 0.0256 + 0.0016\n",
                "                                   = 0.5904  \n",
                "Jadi probabilitasnya anda dapat melihat setidaknya satu bintang berekor tiap satu jam adalah **0.5904**  \n",
                "\n",
                "\n",
                "## II. Statistik  \n",
                "### 1. Manakah pernyataan yang benar dari pilihan dibawah ini :  \n",
                "### - Rata-rata adalah ukuran tendensi pusat suatu data  \n",
                "### - Rata-rata empiris berhubungan dengan permusatan variable acak  \n",
                "### - Standar deviasi empiris mengukur besarnya sebaran data\n",
                "### - Semua benar  \n",
                "\n",
                "Penyelesaian : **Semua Benar**  \n",
                "\n",
                "### 2. Setelah mengkaji perilaku sebuah populasi, anda telah mengidentifikasi empat jenis individu spesifik yang bernilai pada kajian anda. Anda akan menentukan semua pengguna yang paling serupa untuk setiap jenis individu itu. Algoritma manakah yang paling cocok untuk kajian ini ?  \n",
                "\n",
                "Penyelesaian : **Algoritma KMeans clustering** karena algorimat ini mempartisi data ke dalam cluster sehingga data yang memiliki karakteristik sama dikelompokan kedalam cluster yang sama.  \n",
                "\n",
                "### 3. Dengan menambahkan fitur yang tidak penting ke model regresi yang telah dibuat akan menghasilkan kenaikan nilai R-Square atau penurunan nilai R-Square ?\n",
                "\n",
                "Penyelesaian : Nilai R-Square akan selalu meningkat dengan adanya penambahan variable bebas dalam suatu model, jadi pernyataan yang benar adalah **kenaikan nilai R-square**.  \n",
                "\n",
                "### Boosting\n",
                "### 4. Manakah yang termasuk dari algoritma berikut yang merupakan sub-kelas largest boost dalam keluarga algoritma boosting ?\n",
                "\n",
                "Penyelesaian : **gradient boosting**.  \n",
                "\n",
                "### 5. Untuk ***k*** cross-validation, semakin besar nilai ***k*** menghasilkan bias yang lebih besar juga. Benar atau salahkah pernyataan di atas?  \n",
                "\n",
                "Penyelesaian : ***k*** merupakan jumlah iterasi, semakin banyak iterasi dataset yang di evaluasi semakin besar bias yang dihasilkan. \n",
                "\n",
                "### Interpretasi Model  \n",
                "### 6. Jika anda bekerja pada suatu proyek yang menggunakak permasalahan ***binary classification***. Kemudian anda mentraining sebuah model pada training dataset dan kemudian memperoleh confusion matrix setelah menerapkannya pada validation dataset, berikut ini\n",
                "\n",
                "**N=165**|**Predicted: No**|**Predicted:Yes**\n",
                ":-----:|:-----:|:-----:\n",
                "Actual: No|50|10\n",
                "Actual: Yes|5|100  \n",
                "\n",
                "Berdasarkan pada confusion matrix tersebut, pilihlah jawaban berikut ini mana yang memberikan prediksi yang benar ?\n",
                "1. ***Accuracy*** adalah ~0.91  \n",
                "2. ***Misclassification rate*** adalah ~0.91  \n",
                "3. ***False-positive rate*** adalah ~0.95  \n",
                "4. ***True positive rate*** adalah ~0.95  \n",
                "\n",
                "Penyelesaian :  \n",
                "Jawaban yang benar adalah **1 dan 4**. penjelasanya sebagai berikut :"
            ],
            "metadata": {}
        },
        {
            "cell_type": "code",
            "execution_count": 21,
            "source": [
                "TP = 100\n",
                "TN = 50\n",
                "FP = 10\n",
                "FN = 5 \n",
                "\n",
                "result = {}\n",
                "metric = [\"Accurate\", \"miss_classification\", \"false_positive_rate\", \"true_positive_rate\"]\n",
                "result[metric[0]] = (TP + TN) / (TP + TN + FP + FN)\n",
                "result[metric[1]] = (FP + FN) / (TP + TN + FP + FN)\n",
                "result[metric[2]] =  FP  / (FP + TN)\n",
                "result[metric[3]] =  TP / (TP + FN)\n",
                "print(f\"{metric[0]} is {result[metric[0]] : .2f}\")\n",
                "print(f\"{metric[1]} is {result[metric[1]] : .2f}\")\n",
                "print(f\"{metric[2]} is {result[metric[2]] : .2f}\")\n",
                "print(f\"{metric[3]} is {result[metric[3]] : .2f}\")\n"
            ],
            "outputs": [
                {
                    "output_type": "stream",
                    "name": "stdout",
                    "text": [
                        "Accurate is  0.91\n",
                        "miss_classification is  0.09\n",
                        "false_positive_rate is  0.17\n",
                        "true_positive_rate is  0.95\n"
                    ]
                }
            ],
            "metadata": {}
        },
        {
            "cell_type": "markdown",
            "source": [
                "## Dict data type \n",
                "7. Tuliskanlah kode python di code editor yang akan menyatukan tiga dictionay berikut :  \n",
                "dic1 = {1:10, 2:20}\n",
                "dic2 = {3:30, 4:40}\n",
                "dic3 = {5:50, 6:60}  \n",
                "\n",
                "menjadi satu dictionay dalam dic4.\n",
                "\n",
                "Penyelesaian :  "
            ],
            "metadata": {}
        },
        {
            "cell_type": "code",
            "execution_count": 22,
            "source": [
                "dic1 = {1:10, 2:20}\n",
                "dic2 = {3:30, 4:40}\n",
                "dic3 = {5:50, 6:60}\n",
                "dic4 = {}\n",
                "for x in (dic1, dic2, dic3):\n",
                "    dic4.update(x)\n",
                "print(dic4)"
            ],
            "outputs": [
                {
                    "output_type": "stream",
                    "name": "stdout",
                    "text": [
                        "{1: 10, 2: 20, 3: 30, 4: 40, 5: 50, 6: 60}\n"
                    ]
                }
            ],
            "metadata": {}
        },
        {
            "cell_type": "markdown",
            "source": [
                "8. Tuliskan sebuah fungsi python yang digunakan untuk menghitung n deret pertama Fibonacci yang dimulai dari 0.  \n",
                "Inpu : n = 7\n",
                "Output : 33  \n",
                "\n",
                "Penyelesaian :  "
            ],
            "metadata": {}
        },
        {
            "cell_type": "code",
            "execution_count": null,
            "source": [
                "def calculateSum(n):\n",
                "    if n <= 0:\n",
                "        return 0\n",
                "    fibo = [0] * (n + 1)\n",
                "    fibo[1] = 1\n",
                "    # Initialisasi hasil ke dalam variabel sm\n",
                "    sm = fibo[0] + fibo[1]\n",
                "    # Tambahkan suku-suku berikutnya\n",
                "    for i in range(2, n + 1):\n",
                "        fibo[i] = fibo[i - 1] + fibo[i - 2]\n",
                "        sm += fibo[i]\n",
                "    return sm\n",
                "# Evaluasi hasil deret untuk n = 7    \n",
                "print(calculateSum(7))"
            ],
            "outputs": [],
            "metadata": {}
        }
    ],
    "metadata": {
        "orig_nbformat": 4,
        "language_info": {
            "name": "python"
        }
    },
    "nbformat": 4,
    "nbformat_minor": 2
}